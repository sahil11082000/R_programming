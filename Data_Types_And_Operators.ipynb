{
 "cells": [
  {
   "cell_type": "markdown",
   "id": "21c98d6a",
   "metadata": {},
   "source": [
    "# Guide for Datatypes and Data Structure in R Programming\n",
    "-----"
   ]
  },
  {
   "cell_type": "markdown",
   "id": "5abd6229",
   "metadata": {},
   "source": [
    "## Data Types in R:"
   ]
  },
  {
   "cell_type": "markdown",
   "id": "0b5bfe36",
   "metadata": {},
   "source": [
    "Data Types are important in every programming language, if you have studied any programming language before, then you're already familiar with the concept of Data Types. In R, there are also some common data types which are used by programmers while doing coding in R. \n",
    "\n",
    "In a lamen language, We can see data types as a characterstic of data that we have in order to perform different computations in each of the different category.\n",
    "\n",
    "Let's Look at each of the Data type one by one.\n",
    "The list contains:\n",
    "1. Character -> 'a', 'abc', 'Data Science'\n",
    "2. Numeric -> 2, 15.1, 7.544, -2.8, .5\n",
    "3. Integer -> 2, 4, 3, 2L -> representation to inform the interpreter to save the number as integer format\n",
    "4. Logical -> TRUE, FALSE\n",
    "5. Complex -> 1 + 4i"
   ]
  },
  {
   "cell_type": "markdown",
   "id": "b214b653",
   "metadata": {},
   "source": [
    "## Data Structure in R:\n",
    "\n",
    "Data Structure is nothing but the format we use to store and retrieve data for our analysis or computation.\n",
    "\n",
    "R provides few important Data structures which we can use to efficiently store and access the data inside our machine.\n",
    "1. Vectors: \n",
    "2. Matrices: \n",
    "3. Array:\n",
    "4. List: \n",
    "5. Data Frame: "
   ]
  },
  {
   "cell_type": "code",
   "execution_count": 12,
   "id": "0148cadd",
   "metadata": {
    "vscode": {
     "languageId": "r"
    }
   },
   "outputs": [
    {
     "name": "stdout",
     "output_type": "stream",
     "text": [
      "[1] \"Integer type Vector:\"\n",
      "[1] 2 3 4 5 6\n",
      "[1] \"numeric\"\n",
      "[1] 5\n",
      "[1] \"\"\n",
      "[1] \"Character type Vector:\"\n",
      "[1] \"a\" \"b\" \"c\" \"d\"\n",
      "[1] \"character\"\n",
      "[1] \"\"\n",
      "[1] \"Logical type Vector:\"\n",
      "[1]  TRUE FALSE FALSE  TRUE\n",
      "[1] \"logical\"\n",
      "[1] \"\"\n",
      "[1] \"Integer type Vector:\"\n",
      "[1] 1 4 5\n",
      "[1] \"integer\"\n"
     ]
    }
   ],
   "source": [
    "# Vectors:\n",
    "# Numeric Vector:\n",
    "\n",
    "print(\"Integer type Vector:\")\n",
    "var = c(2,3,4,5,6) # the c() function combines the values present inside it and returns a vectors as output.\n",
    "print(var)\n",
    "print(class(var)) # class() function is used to show the data type of data present inside a variable.\n",
    "print(length(var)) # length function is used to find the length of variable var.\n",
    "# In the above variable 'var' we can see that all the data elements belongs to numeric class.\n",
    "print('')\n",
    "\n",
    "\n",
    "# Character vector\n",
    "print(\"Character type Vector:\")\n",
    "var = c('a','b','c','d')\n",
    "print(var)\n",
    "print(class(var))\n",
    "\n",
    "\n",
    "# Logical Vector\n",
    "print('')\n",
    "print(\"Logical type Vector:\")\n",
    "var = c(TRUE, FALSE, FALSE, TRUE)\n",
    "print(var)\n",
    "print(class(var))\n",
    "\n",
    "\n",
    "# Integer Vector\n",
    "print('')\n",
    "print('Integer type Vector:')\n",
    "var = c(1L, 4L, 5L)\n",
    "print(var)\n",
    "print(class(var))"
   ]
  },
  {
   "cell_type": "code",
   "execution_count": null,
   "id": "d83f97b5",
   "metadata": {
    "vscode": {
     "languageId": "r"
    }
   },
   "outputs": [],
   "source": []
  }
 ],
 "metadata": {
  "kernelspec": {
   "display_name": "R",
   "language": "R",
   "name": "ir"
  },
  "language_info": {
   "codemirror_mode": "r",
   "file_extension": ".r",
   "mimetype": "text/x-r-source",
   "name": "R",
   "pygments_lexer": "r",
   "version": "4.2.1"
  }
 },
 "nbformat": 4,
 "nbformat_minor": 5
}
