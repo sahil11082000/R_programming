{
 "cells": [
  {
   "cell_type": "markdown",
   "id": "21c98d6a",
   "metadata": {},
   "source": [
    "# Guide for Datatypes and Data Structure in R Programming\n",
    "-----"
   ]
  },
  {
   "cell_type": "markdown",
   "id": "5abd6229",
   "metadata": {},
   "source": [
    "## Data Types in R:"
   ]
  },
  {
   "cell_type": "markdown",
   "id": "0b5bfe36",
   "metadata": {},
   "source": [
    "Data Types are important in every programming language, if you have studied any programming language before, then you're already familiar with the concept of Data Types. In R, there are also some common data types which are used by programmers while doing coding in R. \n",
    "\n",
    "In a lamen language, We can see data types as a characterstic of data that we have in order to perform different computations in each of the different category.\n",
    "\n",
    "Let's Look at each of the Data type one by one.\n",
    "The list contains:\n",
    "1. Character -> 'a', 'abc', 'Data Science'\n",
    "2. Numeric -> 2, 15.1, 7.544, -2.8, .5\n",
    "3. Integer -> 2, 4, 3, 2L -> representation to inform the interpreter to save the number as integer format\n",
    "4. Logical -> TRUE, FALSE\n",
    "5. Complex -> 1 + 4i"
   ]
  },
  {
   "cell_type": "markdown",
   "id": "b214b653",
   "metadata": {},
   "source": [
    "## Data Structure in R:\n",
    "\n",
    "Data Structure is nothing but the format we use to store and retrieve data for our analysis or computation.\n",
    "\n",
    "R provides few important Data structures which we can use to efficiently store and access the data inside our machine.\n",
    "1. Vectors: \n",
    "2. Matrices: \n",
    "3. Array:\n",
    "4. List: \n",
    "5. Data Frame: "
   ]
  },
  {
   "cell_type": "code",
   "execution_count": 12,
   "id": "0148cadd",
   "metadata": {
    "vscode": {
     "languageId": "r"
    }
   },
   "outputs": [
    {
     "name": "stdout",
     "output_type": "stream",
     "text": [
      "[1] \"Integer type Vector:\"\n",
      "[1] 2 3 4 5 6\n",
      "[1] \"numeric\"\n",
      "[1] 5\n",
      "[1] \"\"\n",
      "[1] \"Character type Vector:\"\n",
      "[1] \"a\" \"b\" \"c\" \"d\"\n",
      "[1] \"character\"\n",
      "[1] \"\"\n",
      "[1] \"Logical type Vector:\"\n",
      "[1]  TRUE FALSE FALSE  TRUE\n",
      "[1] \"logical\"\n",
      "[1] \"\"\n",
      "[1] \"Integer type Vector:\"\n",
      "[1] 1 4 5\n",
      "[1] \"integer\"\n"
     ]
    }
   ],
   "source": [
    "# Vectors:\n",
    "# Numeric Vector:\n",
    "\n",
    "print(\"Integer type Vector:\")\n",
    "var = c(2,3,4,5,6) # the c() function combines the values present inside it and returns a vectors as output.\n",
    "print(var)\n",
    "print(class(var)) # class() function is used to show the data type of data present inside a variable.\n",
    "print(length(var)) # length function is used to find the length of variable var.\n",
    "# In the above variable 'var' we can see that all the data elements belongs to numeric class.\n",
    "print('')\n",
    "\n",
    "\n",
    "# Character vector\n",
    "print(\"Character type Vector:\")\n",
    "var = c('a','b','c','d')\n",
    "print(var)\n",
    "print(class(var))\n",
    "\n",
    "\n",
    "# Logical Vector\n",
    "print('')\n",
    "print(\"Logical type Vector:\")\n",
    "var = c(TRUE, FALSE, FALSE, TRUE)\n",
    "print(var)\n",
    "print(class(var))\n",
    "\n",
    "\n",
    "# Integer Vector\n",
    "print('')\n",
    "print('Integer type Vector:')\n",
    "var = c(1L, 4L, 5L)\n",
    "print(var)\n",
    "print(class(var))"
   ]
  },
  {
   "cell_type": "markdown",
   "id": "d83f97b5",
   "metadata": {
    "vscode": {
     "languageId": "r"
    }
   },
   "source": [
    "### Vector Operations:\n",
    "\n",
    "You already know how to perform operations on arrays, linkedlists, trees, graphs. Similarly, you can perform operations on vectors. Like we can add an element , or remove an element, or find the length of the vector, etc. Here we'll see how to perform basic operations on vectors:\n",
    "\n",
    "1. Inserting an element to the vector\n",
    "2. Removing an element to the vector\n",
    "3. Find the length of a vector\n",
    "4. Merging two vectors\n",
    "5. Traversing a vector\n",
    "-----"
   ]
  },
  {
   "cell_type": "code",
   "execution_count": 11,
   "id": "d54f3418",
   "metadata": {
    "vscode": {
     "languageId": "r"
    }
   },
   "outputs": [
    {
     "name": "stdout",
     "output_type": "stream",
     "text": [
      "Insertion at Beginning- \n",
      "Before insertion:\n",
      "  1 2 3 5 10 15 32\n",
      "After insertion:\n",
      " 100 1 2 3 5 10 15 32\n",
      "\n",
      "Insertion at End- \n",
      "Before insertion:\n",
      "  1 2 3 5 10 15 32\n",
      "After insertion:\n",
      " 1 2 3 5 10 15 32 5000\n",
      "\n",
      "Insertion at a specific position -\n",
      "Before insertion:\n",
      "  1 2 3 5 10 15 32\n",
      "After insertion:\n",
      " 1 2 3 5 90 100 110 10 15 32"
     ]
    }
   ],
   "source": [
    "# Inserting an element in a vector\n",
    "# While inserting an element you might want to specify on which location you want to insert a particular element. You might\n",
    "# want to insert the element at the beginning, or end or any location in the vector. We'll look at all the three cases in this cell.\n",
    "\n",
    "#Insertion at Beginning:\n",
    "cat(\"Insertion at Beginning- \\n\")\n",
    "vec = c(1,2,3,5,10,15,32) #declaring a vector.\n",
    "cat(\"Before insertion:\\n \", vec)\n",
    "vec = (c(100, vec)) #insertion at beginning.\n",
    "cat(\"\\nAfter insertion:\\n\", vec)\n",
    "\n",
    "#-----------------------------------------------\n",
    "#insertion at end\n",
    "cat(\"\\n\\nInsertion at End- \\n\")\n",
    "vec = c(1,2,3,5,10,15,32) #declaring a vector.\n",
    "cat(\"Before insertion:\\n \", vec)\n",
    "vec = (c(vec, 5000)) #insertion at beginning.\n",
    "cat(\"\\nAfter insertion:\\n\", vec)\n",
    "\n",
    "#-----------------------------------------------\n",
    "# Insertion at a specific postion\n",
    "# This is pretty interesting, as directly not able to append data at a specific location in R. However this can be\n",
    "# done using the function ->  append(x, value{s}, after = position)\n",
    "# The function is straight forward and understood by everyone, this function appends a val or a sequence of values \n",
    "# to a vector 'x' after a given postion. # Fun fact:  R is a 1 indexed language. Let's see the implementation:\n",
    "cat(\"\\n\\nInsertion at a specific position -\\n\")\n",
    "vec = c(1,2,3,5,10,15,32) #declaring a vector.\n",
    "cat(\"Before insertion:\\n \", vec)\n",
    "vec = append(vec, c(90, 100, 110), after = 4)  # inserts the values after 4th index\n",
    "cat(\"\\nAfter insertion:\\n\", vec)\n",
    "\n",
    "#-----------------------------------------------\n",
    "# Insertion End here"
   ]
  },
  {
   "cell_type": "code",
   "execution_count": 23,
   "id": "e16d25e7",
   "metadata": {
    "vscode": {
     "languageId": "r"
    }
   },
   "outputs": [
    {
     "name": "stdout",
     "output_type": "stream",
     "text": [
      "Removing element at beginning:\n",
      "Before deletion:\n",
      " a b c\n",
      "After deletion:\n",
      "b c\n",
      "\n",
      "Deletion at End:\n",
      "Before deletion:\n",
      " a b c\n",
      "After deletion:\n",
      "a b\n",
      "\n",
      "Deletion at Specific location:\n",
      "Before deletion:\n",
      " 1 9 0 3 4 6 2 56 42\n",
      "After deletion:\n",
      " 1 9 0 3 6 2 56 42\n",
      "\n",
      "Deleting multiple elements in Vector:\n",
      "Before deletion:\n",
      " 1 9 0 3 4 6 2 56 42\n",
      "After deletion:\n",
      " 1 0 3 4 2 56 42"
     ]
    }
   ],
   "source": [
    "# Removing elements from a vector: removing elements in R might surprise you as we will use list comprehension kind of\n",
    "# concept to do this, the most interesting part is that we can remove multiple elements to delete the elements in vector.\n",
    "\n",
    "#Removing from the starting index\n",
    "# cat(\"Removing element at first\")\n",
    "cat(\"Removing element at beginning:\")\n",
    "vec = c('a', 'b', 'c')\n",
    "cat(\"\\nBefore deletion:\\n\", vec)\n",
    "vec = vec[vec != vec[1]] # we are removing the 1st index element\n",
    "cat(\"\\nAfter deletion:\\n\")\n",
    "cat(vec)\n",
    "\n",
    "#----------------------------------------------------------------------------\n",
    "# Removing from the last index\n",
    "cat(\"\\n\\nDeletion at End:\")\n",
    "vec = c('a', 'b', 'c')\n",
    "cat(\"\\nBefore deletion:\\n\", vec)\n",
    "vec = vec[vec != vec[length(vec)]] # we are removing the 1st index element\n",
    "cat(\"\\nAfter deletion:\\n\")\n",
    "cat(vec)\n",
    "\n",
    "#----------------------------------------------------------------------------\n",
    "# Remving at a Specific index\n",
    "cat(\"\\n\\nDeletion at Specific location:\")\n",
    "vec = c(1, 9, 0, 3, 4, 6,2 ,56, 42)\n",
    "cat(\"\\nBefore deletion:\\n\", vec)\n",
    "vec = vec[vec != vec[5]] #deleting 5th element from vector\n",
    "cat(\"\\nAfter deletion:\\n\", vec)\n",
    "\n",
    "#----------------------------------------------------------------------------\n",
    "# Important: Deleting multiple elements\n",
    "cat(\"\\n\\nDeleting multiple elements in Vector:\")\n",
    "vec = c(1, 9, 0, 3, 4, 6,2 ,56, 42)\n",
    "cat(\"\\nBefore deletion:\\n\", vec)\n",
    "vec = vec[ !vec %in% (5:10)] #deleting elements which are in a range of 5 to 10\n",
    "cat(\"\\nAfter deletion:\\n\", vec)\n",
    "\n",
    "#----------------------------------------------------------------------------\n",
    "# Deletion operation end here"
   ]
  }
 ],
 "metadata": {
  "kernelspec": {
   "display_name": "R",
   "language": "R",
   "name": "ir"
  },
  "language_info": {
   "codemirror_mode": "r",
   "file_extension": ".r",
   "mimetype": "text/x-r-source",
   "name": "R",
   "pygments_lexer": "r",
   "version": "4.2.1"
  }
 },
 "nbformat": 4,
 "nbformat_minor": 5
}
